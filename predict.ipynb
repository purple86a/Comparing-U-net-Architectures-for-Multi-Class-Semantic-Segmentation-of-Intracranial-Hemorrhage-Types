{
 "cells": [
  {
   "cell_type": "code",
   "execution_count": 15,
   "metadata": {},
   "outputs": [],
   "source": [
    "import os\n",
    "os.environ['KMP_DUPLICATE_LIB_OK'] = 'TRUE'"
   ]
  },
  {
   "cell_type": "code",
   "execution_count": 16,
   "metadata": {},
   "outputs": [],
   "source": [
    "    # Define model paths\n",
    "model_paths = {\n",
    "    'lite': 'checkpoints/lite_unet.pth',\n",
    "    'resnet': 'checkpoints/resnet_unet.pth',\n",
    "    'resnet_att': 'checkpoints/best_resnet101_attention_model.pth'\n",
    "}"
   ]
  },
  {
   "cell_type": "code",
   "execution_count": 25,
   "metadata": {},
   "outputs": [],
   "source": [
    "import os\n",
    "import torch\n",
    "import numpy as np\n",
    "import matplotlib.pyplot as plt\n",
    "from PIL import Image\n",
    "from models.lite_unet_model import UNetLite\n",
    "from models.resunet_model import get_resnet_unet\n",
    "from models.resunet_att_model import get_resnet_unet as get_resnet_att_unet\n",
    "\n",
    "def load_model(model_type, model_path):\n",
    "    \"\"\"Load a model from checkpoint\"\"\"\n",
    "    if model_type == 'lite':\n",
    "        model = UNetLite(in_channels=1, out_channels=6)\n",
    "    elif model_type == 'resnet':\n",
    "        model = get_resnet_unet(in_channels=1, out_channels=6)\n",
    "    elif model_type == 'resnet_att':\n",
    "        model = get_resnet_att_unet(in_channels=1, out_channels=6)\n",
    "    else:\n",
    "        raise ValueError(f\"Unknown model type: {model_type}\")\n",
    "    \n",
    "    # Load state dict\n",
    "    state_dict = torch.load(model_path, map_location='cpu')\n",
    "    model.load_state_dict(state_dict)\n",
    "    model.eval()\n",
    "    return model\n",
    "\n",
    "def preprocess_image(image_path):\n",
    "    \"\"\"Preprocess the image for model input\"\"\"\n",
    "    # Load image\n",
    "    img = Image.open(image_path)\n",
    "    img_array = np.array(img, dtype=np.float32)\n",
    "    \n",
    "    # Normalize the image to [-1, 1] range\n",
    "    img_array = img_array / 127.5 - 1.0\n",
    "    img_tensor = torch.from_numpy(img_array).unsqueeze(0).float()  # Add channel dimension\n",
    "    \n",
    "    return img_tensor.unsqueeze(0)  # Add batch dimension\n",
    "\n",
    "def predict_and_visualize(image_path, model_paths, output_path, model_type):\n",
    "    \"\"\"Predict with three models and visualize results\"\"\"\n",
    "    # Load models\n",
    "    if model_type == 'UNetLite':\n",
    "        model = load_model('lite', model_paths['lite'])\n",
    "    elif model_type == 'ResNetUNet':\n",
    "        model = load_model('resnet', model_paths['resnet'])\n",
    "    elif model_type == 'ResNetUNet-Att':\n",
    "        model = load_model('resnet_att', model_paths['resnet_att'])\n",
    "    else:\n",
    "        raise ValueError(f\"Unknown model type: {model_type}\")\n",
    "    # Preprocess image\n",
    "    input_tensor = preprocess_image(image_path)\n",
    "    \n",
    "    # Get predictions\n",
    "    predictions = {}\n",
    "    with torch.no_grad():\n",
    "        pred = model(input_tensor)\n",
    "        pred = torch.softmax(pred, dim=1)\n",
    "        predictions[model_type] = pred.squeeze().numpy()\n",
    "    \n",
    "    # Create visualization\n",
    "    fig, axes = plt.subplots(1, 7, figsize=(21, 3))\n",
    "    \n",
    "    # Plot original image\n",
    "    original_img = np.array(Image.open(image_path))\n",
    "    axes[0].imshow(original_img, cmap='gray')\n",
    "    axes[0].set_title('Original Image')\n",
    "    axes[0].axis('off')\n",
    "    \n",
    "    # Plot predictions for UNetLite only\n",
    "    class_names = ['Background', 'EDH', 'SDH', 'SAH', 'IPH', 'IVH']\n",
    "    pred = predictions[model_type]\n",
    "    for j in range(6):\n",
    "        axes[j+1].imshow(pred[j], cmap='hot')\n",
    "        axes[j+1].set_title(f'UNetLite\\n{class_names[j]}')\n",
    "        axes[j+1].axis('off')\n",
    "    \n",
    "    plt.tight_layout()\n",
    "    plt.savefig(output_path)\n",
    "    plt.close()\n"
   ]
  },
  {
   "cell_type": "code",
   "execution_count": 26,
   "metadata": {},
   "outputs": [
    {
     "name": "stderr",
     "output_type": "stream",
     "text": [
      "C:\\Users\\Sara\\AppData\\Local\\Temp\\ipykernel_3532\\4197275236.py:22: FutureWarning: You are using `torch.load` with `weights_only=False` (the current default value), which uses the default pickle module implicitly. It is possible to construct malicious pickle data which will execute arbitrary code during unpickling (See https://github.com/pytorch/pytorch/blob/main/SECURITY.md#untrusted-models for more details). In a future release, the default value for `weights_only` will be flipped to `True`. This limits the functions that could be executed during unpickling. Arbitrary objects will no longer be allowed to be loaded via this mode unless they are explicitly allowlisted by the user via `torch.serialization.add_safe_globals`. We recommend you start setting `weights_only=True` for any use case where you don't have full control of the loaded file. Please open an issue on GitHub for any issues related to this experimental feature.\n",
      "  state_dict = torch.load(model_path, map_location='cpu')\n"
     ]
    }
   ],
   "source": [
    "# Example usage\n",
    "image_path = 'test_image.png'  # Replace with your test image path\n",
    "output_path = 'predictions.png'\n",
    "model_type = 'ResNetUNet-Att' # 'UNetLite', 'ResNetUNet', 'ResNetUNet-Att'\n",
    "    \n",
    "predict_and_visualize(image_path, model_paths, output_path, model_type)"
   ]
  },
  {
   "cell_type": "code",
   "execution_count": null,
   "metadata": {},
   "outputs": [],
   "source": []
  }
 ],
 "metadata": {
  "kernelspec": {
   "display_name": "medical",
   "language": "python",
   "name": "python3"
  },
  "language_info": {
   "codemirror_mode": {
    "name": "ipython",
    "version": 3
   },
   "file_extension": ".py",
   "mimetype": "text/x-python",
   "name": "python",
   "nbconvert_exporter": "python",
   "pygments_lexer": "ipython3",
   "version": "3.9.21"
  }
 },
 "nbformat": 4,
 "nbformat_minor": 2
}
